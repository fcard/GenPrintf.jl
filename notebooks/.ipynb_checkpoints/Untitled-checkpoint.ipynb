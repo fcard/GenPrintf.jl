{
 "cells": [
  {
   "cell_type": "code",
   "execution_count": 1,
   "metadata": {},
   "outputs": [],
   "source": [
    "import Pkg\n",
    "Pkg.activate(\"../../GenPrintf.jl\")\n",
    "\n",
    "using GenPrintf\n",
    "using GenPrintf.Cons"
   ]
  },
  {
   "cell_type": "code",
   "execution_count": 2,
   "metadata": {},
   "outputs": [],
   "source": [
    "function p(fmt, n)\n",
    "  i = 1\n",
    "  while i < n\n",
    "    printf(fmt, i)\n",
    "    i += 1\n",
    "  end\n",
    "end\n",
    "\n",
    "const N = 10;"
   ]
  },
  {
   "cell_type": "code",
   "execution_count": 3,
   "metadata": {},
   "outputs": [
    {
     "data": {
      "text/plain": [
       "CodeInfo(\n",
       "\u001b[90m1 ─\u001b[39m      nothing\u001b[90m::Nothing\u001b[39m\n",
       "\u001b[90m2 ┄\u001b[39m %2 = φ (#1 => 1, #3 => %6)\u001b[36m::Int64\u001b[39m\n",
       "\u001b[90m│  \u001b[39m %3 = Base.slt_int(%2, n)\u001b[36m::Bool\u001b[39m\n",
       "\u001b[90m└──\u001b[39m      goto #4 if not %3\n",
       "\u001b[90m3 ─\u001b[39m      invoke Main.printf(_2::String, %2::Int64)\u001b[90m::Any\u001b[39m\n",
       "\u001b[90m│  \u001b[39m %6 = Base.add_int(%2, 1)\u001b[36m::Int64\u001b[39m\n",
       "\u001b[90m└──\u001b[39m      goto #2\n",
       "\u001b[90m4 ─\u001b[39m      return\n",
       ") => Nothing"
      ]
     },
     "execution_count": 3,
     "metadata": {},
     "output_type": "execute_result"
    }
   ],
   "source": [
    "@code_typed p(\"hello, {}!\", N)"
   ]
  },
  {
   "cell_type": "code",
   "execution_count": 4,
   "metadata": {},
   "outputs": [
    {
     "data": {
      "text/plain": [
       "CodeInfo(\n",
       "\u001b[90m1 ─\u001b[39m      nothing\u001b[90m::Nothing\u001b[39m\n",
       "\u001b[90m2 ┄\u001b[39m %2 = φ (#1 => 1, #3 => %8)\u001b[36m::Int64\u001b[39m\n",
       "\u001b[90m│  \u001b[39m %3 = Base.slt_int(%2, n)\u001b[36m::Bool\u001b[39m\n",
       "\u001b[90m└──\u001b[39m      goto #4 if not %3\n",
       "\u001b[90m3 ─\u001b[39m      invoke print(\"hello, \"::String)\u001b[90m::Any\u001b[39m\n",
       "\u001b[90m│  \u001b[39m      invoke print(%2::Int64)\u001b[90m::Any\u001b[39m\n",
       "\u001b[90m│  \u001b[39m      invoke print(\"!\"::String)\u001b[90m::Nothing\u001b[39m\n",
       "\u001b[90m│  \u001b[39m %8 = Base.add_int(%2, 1)\u001b[36m::Int64\u001b[39m\n",
       "\u001b[90m└──\u001b[39m      goto #2\n",
       "\u001b[90m4 ─\u001b[39m      return\n",
       ") => Nothing"
      ]
     },
     "execution_count": 4,
     "metadata": {},
     "output_type": "execute_result"
    }
   ],
   "source": [
    "@code_typed p(fmt\"hello, {}!\", N)"
   ]
  },
  {
   "cell_type": "code",
   "execution_count": 5,
   "metadata": {},
   "outputs": [
    {
     "data": {
      "text/plain": [
       "CodeInfo(\n",
       "\u001b[90m1 ─\u001b[39m       nothing\u001b[90m::Nothing\u001b[39m\n",
       "\u001b[90m2 ┄\u001b[39m %2  = φ (#1 => 1, #3 => %11)\u001b[36m::Int64\u001b[39m\n",
       "\u001b[90m│  \u001b[39m %3  = Base.slt_int(%2, n)\u001b[36m::Bool\u001b[39m\n",
       "\u001b[90m└──\u001b[39m       goto #4 if not %3\n",
       "\u001b[90m3 ─\u001b[39m %5  = Base.print\u001b[36m::typeof(print)\u001b[39m\n",
       "\u001b[90m│  \u001b[39m       invoke %5(\"hallo, \"::String)\u001b[90m::Any\u001b[39m\n",
       "\u001b[90m│  \u001b[39m %7  = Base.print\u001b[36m::typeof(print)\u001b[39m\n",
       "\u001b[90m│  \u001b[39m       invoke %7(%2::Int64)\u001b[90m::Any\u001b[39m\n",
       "\u001b[90m│  \u001b[39m %9  = Base.print\u001b[36m::typeof(print)\u001b[39m\n",
       "\u001b[90m│  \u001b[39m       invoke %9(\"!\"::String)\u001b[90m::Nothing\u001b[39m\n",
       "\u001b[90m│  \u001b[39m %11 = Base.add_int(%2, 1)\u001b[36m::Int64\u001b[39m\n",
       "\u001b[90m└──\u001b[39m       goto #2\n",
       "\u001b[90m4 ─\u001b[39m       return\n",
       ") => Nothing"
      ]
     },
     "execution_count": 5,
     "metadata": {},
     "output_type": "execute_result"
    }
   ],
   "source": [
    "h = \"hallo, \"\n",
    "f = fmt(h, :{}, \"!\")\n",
    "\n",
    "@code_typed p(f, N)"
   ]
  }
 ],
 "metadata": {
  "kernelspec": {
   "display_name": "Julia 1.2.0-DEV",
   "language": "julia",
   "name": "julia-1.2"
  },
  "language_info": {
   "file_extension": ".jl",
   "mimetype": "application/julia",
   "name": "julia",
   "version": "1.2.0"
  }
 },
 "nbformat": 4,
 "nbformat_minor": 2
}
